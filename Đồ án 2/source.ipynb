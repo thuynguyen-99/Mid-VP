{
 "cells": [
  {
   "cell_type": "markdown",
   "id": "2c80ee6a",
   "metadata": {},
   "source": [
    "# Thống kê âm tiết tiếng Việt từ file từ điển TXT (VDic_uni.txt)\n",
    "Yêu cầu:\n",
    "\n",
    "- (a) Số lượng âm tiết khác nhau trong từ điển\n",
    "- (b) Số lượng âm tiết \"khả dĩ\" theo tổ hợp [Phụ_âm_đầu * Âm_Đệm * Âm_Chính * Âm_Cuối * Thanh_điệu]\n",
    "- (c) So sánh (a) và (b)\n",
    "- (d) Khai phá một số quy luật đồng xuất hiện (phonotactics) + gợi ý ngữ pháp/ngữ nghĩa từ nhãn"
   ]
  },
  {
   "cell_type": "code",
   "execution_count": 62,
   "id": "813ea471",
   "metadata": {},
   "outputs": [
    {
     "name": "stdout",
     "output_type": "stream",
     "text": [
      "Loaded 37464 words from dictionary.\n"
     ]
    }
   ],
   "source": [
    "from pathlib import Path\n",
    "import re\n",
    "import csv\n",
    "\n",
    "DICT_PATH = Path(\"VDic_uni.txt\")\n",
    "\n",
    "def load_dictionary(file_path):\n",
    "    with open(file_path, 'r', encoding='utf-8') as f:\n",
    "        words = [line.strip() for line in f if line.strip()]\n",
    "    return words\n",
    "\n",
    "lines = load_dictionary(DICT_PATH)\n",
    "print(f\"Loaded {len(lines)} words from dictionary.\")"
   ]
  },
  {
   "cell_type": "code",
   "execution_count": 63,
   "id": "c13e91ee",
   "metadata": {},
   "outputs": [
    {
     "name": "stdout",
     "output_type": "stream",
     "text": [
      "Number of headwords 37464\n"
     ]
    }
   ],
   "source": [
    "# CÂU A: TÍNH SỐ LƯỢNG ÂM TIẾT KHÁC NHAU\n",
    "\n",
    "# Trích headword từ mỗi dòng\n",
    "def iter_headwords(lines):\n",
    "    headwords: list[str] = []\n",
    "    for i, line in enumerate(lines, 1):\n",
    "        if not line:\n",
    "            continue\n",
    "        head = line.split(\"\\t\", 1)[0].strip()\n",
    "        if head:\n",
    "            headwords.append(head)\n",
    "    return headwords\n",
    "\n",
    "headwords = iter_headwords(lines)\n",
    "print(\"Number of headwords\", len(headwords))\n"
   ]
  },
  {
   "cell_type": "code",
   "execution_count": 64,
   "id": "d03a49b6",
   "metadata": {},
   "outputs": [
    {
     "name": "stdout",
     "output_type": "stream",
     "text": [
      "Number of syllables (with duplicates): 75443\n"
     ]
    }
   ],
   "source": [
    "# Phân tích âm tiết\n",
    "# Tách headword thành âm tiết (theo khoảng trắng & dấu gạch nối), loại bỏ dấu câu\n",
    "punct_strip = '.,;:\"\\'()[]{}!?«»“”‘’'\n",
    "strip_table = str.maketrans(\"\", \"\", punct_strip)\n",
    "\n",
    "def syllabify(word: str) -> list[str]:\n",
    "    parts = re.split(r\"[\\s-]+\", word)\n",
    "    result = []\n",
    "    for part in parts:\n",
    "        cleaned = part.translate(strip_table)\n",
    "        if cleaned:\n",
    "            result.append(cleaned.lower())\n",
    "    return result\n",
    "\n",
    "all_syllables = []\n",
    "for h in headwords:\n",
    "    all_syllables.extend(syllabify(h))\n",
    "print(\"Number of syllables (with duplicates):\", len(all_syllables))"
   ]
  },
  {
   "cell_type": "code",
   "execution_count": 65,
   "id": "5a6b31f1",
   "metadata": {},
   "outputs": [],
   "source": [
    "# Lấy số lượng âm tiết khác nhau\n",
    "unique_syllables = set(all_syllables)"
   ]
  },
  {
   "cell_type": "code",
   "execution_count": 66,
   "id": "34b7db04",
   "metadata": {},
   "outputs": [],
   "source": [
    "# CÂU B: TÍNH SỐ LƯỢNG ÂM TIẾT KHẢ DĨ\n",
    "# [Phụ_âm_đầu (Onsets) * Âm_Đệm (Medials) * Âm_Chính (Nucleus) * Âm_Cuối (Codas) * Thanh_điệu (Tones)]\n",
    "\n",
    "# Thanh điệu\n",
    "TONE_CODE = {\n",
    "    \"a\": (0,\"a\"), \"á\": (1,\"a\"), \"à\": (2,\"a\"), \"ả\": (3,\"a\"), \"ã\": (4,\"a\"), \"ạ\": (5,\"a\"),\n",
    "    \"ă\": (0,\"ă\"), \"ắ\": (1,\"ă\"), \"ằ\": (2,\"ă\"), \"ẳ\": (3,\"ă\"), \"ẵ\": (4,\"ă\"), \"ặ\": (5,\"ă\"),\n",
    "    \"â\": (0,\"â\"), \"ấ\": (1,\"â\"), \"ầ\": (2,\"â\"), \"ẩ\": (3,\"â\"), \"ẫ\": (4,\"â\"), \"ậ\": (5,\"â\"),\n",
    "    \"e\": (0,\"e\"), \"é\": (1,\"e\"), \"è\": (2,\"e\"), \"ẻ\": (3,\"e\"), \"ẽ\": (4,\"e\"), \"ẹ\": (5,\"e\"),\n",
    "    \"ê\": (0,\"ê\"), \"ế\": (1,\"ê\"), \"ề\": (2,\"ê\"), \"ể\": (3,\"ê\"), \"ễ\": (4,\"ê\"), \"ệ\": (5,\"ê\"),\n",
    "    \"i\": (0,\"i\"), \"í\": (1,\"i\"), \"ì\": (2,\"i\"), \"ỉ\": (3,\"i\"), \"ĩ\": (4,\"i\"), \"ị\": (5,\"i\"),\n",
    "    \"y\": (0,\"y\"), \"ý\": (1,\"y\"), \"ỳ\": (2,\"y\"), \"ỷ\": (3,\"y\"), \"ỹ\": (4,\"y\"), \"ỵ\": (5,\"y\"),\n",
    "    \"o\": (0,\"o\"), \"ó\": (1,\"o\"), \"ò\": (2,\"o\"), \"ỏ\": (3,\"o\"), \"õ\": (4,\"o\"), \"ọ\": (5,\"o\"),\n",
    "    \"ô\": (0,\"ô\"), \"ố\": (1,\"ô\"), \"ồ\": (2,\"ô\"), \"ổ\": (3,\"ô\"), \"ỗ\": (4,\"ô\"), \"ộ\": (5,\"ô\"),\n",
    "    \"ơ\": (0,\"ơ\"), \"ớ\": (1,\"ơ\"), \"ờ\": (2,\"ơ\"), \"ở\": (3,\"ơ\"), \"ỡ\": (4,\"ơ\"), \"ợ\": (5,\"ơ\"),\n",
    "    \"u\": (0,\"u\"), \"ú\": (1,\"u\"), \"ù\": (2,\"u\"), \"ủ\": (3,\"u\"), \"ũ\": (4,\"u\"), \"ụ\": (5,\"u\"),\n",
    "    \"ư\": (0,\"ư\"), \"ứ\": (1,\"ư\"), \"ừ\": (2,\"ư\"), \"ử\": (3,\"ư\"), \"ữ\": (4,\"ư\"), \"ự\": (5,\"ư\"),\n",
    "}\n",
    "VOWELS_BASE = set([\"a\",\"ă\",\"â\",\"e\",\"ê\",\"i\",\"y\",\"o\",\"ô\",\"ơ\",\"u\",\"ư\"])\n",
    "\n",
    "# Phụ âm đầu\n",
    "ONSETS = [\"ngh\",\"ng\",\"gh\",\"gi\",\"kh\",\"ph\",\"qu\",\"th\",\"tr\",\"ch\",\"nh\",\n",
    "          \"b\",\"c\",\"d\",\"đ\",\"g\",\"h\",\"k\",\"l\",\"m\",\"n\",\"p\",\"q\",\"r\",\"s\",\"t\",\"v\",\"x\"]\n",
    "\n",
    "# Phụ âm cuối\n",
    "CODAS  = [\"ch\",\"nh\",\"ng\",\"c\",\"m\",\"n\",\"p\",\"t\"]"
   ]
  },
  {
   "cell_type": "code",
   "execution_count": 67,
   "id": "978c3a62",
   "metadata": {},
   "outputs": [],
   "source": [
    "def strip_tone(s: str) -> tuple[str, int]:\n",
    "    out = []\n",
    "    tone_index = 0\n",
    "    for ch in s:\n",
    "        if ch in TONE_CODE:\n",
    "            t, base = TONE_CODE[ch]\n",
    "            if tone_index == 0:\n",
    "                tone_index = t\n",
    "            out.append(base)\n",
    "        else:\n",
    "            out.append(ch)\n",
    "\n",
    "    str_without_tone = \"\".join(out)\n",
    "    return str_without_tone, tone_index"
   ]
  },
  {
   "cell_type": "code",
   "execution_count": 68,
   "id": "45bf182c",
   "metadata": {},
   "outputs": [],
   "source": [
    "def split_syllable(syl: str) -> tuple[str, str, str, str, int] | None:\n",
    "    s = syl.lower().strip()\n",
    "    if not s:\n",
    "        return None\n",
    "    str_without_tone, tone_index = strip_tone(s)\n",
    "\n",
    "    # Lấy phụ âm đầu\n",
    "    onset = \"\"\n",
    "    for o in ONSETS:\n",
    "        if str_without_tone.startswith(o):\n",
    "            onset = o\n",
    "            break\n",
    "    rest = str_without_tone[len(onset) :]\n",
    "    if not rest:\n",
    "        return None\n",
    "\n",
    "    # Lấy phụ âm cuối/ âm cuối\n",
    "    coda = \"\"\n",
    "    for c in sorted(CODAS, key=len, reverse=True):\n",
    "        if rest.endswith(c):\n",
    "            coda = c\n",
    "            rest = rest[: -len(c)]\n",
    "            break\n",
    "    if not rest:\n",
    "        return None\n",
    "\n",
    "    # Lấy âm đệm: 'o' hoặc 'u' đứng đầu phần vần (trừ 'qu' xem 'u' thuộc âm đầu)\n",
    "    medial = \"\"\n",
    "    if rest and rest[0] in (\"o\", \"u\") and not (onset == \"qu\" and rest[0] == \"u\"):\n",
    "        medial = rest[0]\n",
    "        rest = rest[1:]\n",
    "    if not rest:\n",
    "        return None\n",
    "\n",
    "    # Lấy âm chính: nguyên âm gốc đầu tiên còn lại\n",
    "    nucleus = next((ch for ch in rest if ch in VOWELS_BASE), \"\")\n",
    "    if not nucleus:\n",
    "        return None\n",
    "\n",
    "    return onset, medial, nucleus, coda, tone_index\n"
   ]
  },
  {
   "cell_type": "code",
   "execution_count": 69,
   "id": "3a910d1e",
   "metadata": {},
   "outputs": [
    {
     "name": "stdout",
     "output_type": "stream",
     "text": [
      "a) Số lượng âm tiết khác nhau trong từ điển:  7994\n",
      "Lưu chi tiết tại: unique_syllables.csv\n",
      "===============================\n",
      "b) Số lượng âm tiết khả dĩ\n",
      "Số lượng phụ âm đầu: 28\n",
      "Số lượng âm đệm: 3\n",
      "Số lượng nguyên âm: 12\n",
      "Số lượng âm cuối: 9\n",
      "Số lượng thanh điệu: 6\n",
      "Số lượng âm tiết khả dĩ theo tổ hợp [Phụ_âm_đầu * Âm_Đệm * Âm_Chính * Âm_Cuối * Thanh_điệu] 54432\n"
     ]
    }
   ],
   "source": [
    "onset_set, medial_set, nucleus_set, coda_set, tone_set = (\n",
    "    set(),\n",
    "    set(),\n",
    "    set(),\n",
    "    set(),\n",
    "    set(),\n",
    ")\n",
    "\n",
    "for s in all_syllables:\n",
    "    parts = split_syllable(s)\n",
    "    if parts:\n",
    "        o, m, v, c, t = parts\n",
    "        onset_set.add(o)\n",
    "        medial_set.add(m)\n",
    "        nucleus_set.add(v)\n",
    "        coda_set.add(c)\n",
    "        tone_set.add(t)\n",
    "\n",
    "B = len(onset_set) * len(medial_set) * len(nucleus_set) * len(coda_set) * len(tone_set)\n",
    "\n",
    "# Lưu danh sách âm tiết duy nhất\n",
    "print(\"a) Số lượng âm tiết khác nhau trong từ điển: \", len(unique_syllables))\n",
    "out_csv = Path(\"unique_syllables.csv\")\n",
    "with out_csv.open(\"w\", encoding=\"utf-8\", newline=\"\") as f:\n",
    "    w = csv.writer(f)\n",
    "    for s in unique_syllables:\n",
    "        w.writerow([s])\n",
    "print(\"Lưu chi tiết tại:\", out_csv)\n",
    "\n",
    "print(\"===============================\")\n",
    "print(\"b) Số lượng âm tiết khả dĩ\")\n",
    "print(\"Số lượng phụ âm đầu:\", len(onset_set))\n",
    "print(\"Số lượng âm đệm:\", len(medial_set))\n",
    "print(\"Số lượng nguyên âm:\", len(nucleus_set))\n",
    "print(\"Số lượng âm cuối:\", len(coda_set))\n",
    "print(\"Số lượng thanh điệu:\", len(tone_set))\n",
    "print(\"Số lượng âm tiết khả dĩ theo tổ hợp [Phụ_âm_đầu * Âm_Đệm * Âm_Chính * Âm_Cuối * Thanh_điệu]\", B)\n",
    "\n",
    "\n",
    "\n"
   ]
  }
 ],
 "metadata": {
  "kernelspec": {
   "display_name": "base",
   "language": "python",
   "name": "python3"
  },
  "language_info": {
   "codemirror_mode": {
    "name": "ipython",
    "version": 3
   },
   "file_extension": ".py",
   "mimetype": "text/x-python",
   "name": "python",
   "nbconvert_exporter": "python",
   "pygments_lexer": "ipython3",
   "version": "3.13.5"
  }
 },
 "nbformat": 4,
 "nbformat_minor": 5
}
